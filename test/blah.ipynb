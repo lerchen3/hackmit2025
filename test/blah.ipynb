{
 "cells": [
  {
   "cell_type": "code",
   "execution_count": 1,
   "id": "ca13c10d",
   "metadata": {},
   "outputs": [
    {
     "name": "stdout",
     "output_type": "stream",
     "text": [
      "<think>\n",
      "Okay, the user is asking \"What's 1+1?\" That seems straightforward, but maybe they want a deeper explanation. Let me think. In basic arithmetic, 1+1 is 2. But perhaps they're looking for a more detailed breakdown. I should start by confirming the standard answer. Then, maybe explain the concept of addition. Wait, are there any alternative interpretations? Like in different number systems or contexts? For example, in binary, 1+1 is 10, which is 2 in decimal. But the question doesn't specify a context, so the default is probably base 10. Also, in some abstract algebra contexts, like modulo arithmetic, 1+1 could be different, but that's more advanced. The user might just want the simple answer. Let me make sure to mention the basic arithmetic result first and then touch on other possibilities briefly. That way, it's comprehensive but not overwhelming. I should also check if there's any cultural or linguistic nuance I'm missing. The question is pretty direct, so I think the answer is straightforward. Just need to present it clearly.\n",
      "</think>\n",
      "\n",
      "In basic arithmetic, **1 + 1 = 2**. This is the standard result in the decimal number system. \n",
      "\n",
      "However, depending on the context, the answer might vary:\n",
      "- **Binary (base 2):** 1 + 1 = 10 (which equals 2 in decimal).\n",
      "- **Modulo arithmetic:** For example, in modulo 2, 1 + 1 = 0.\n",
      "- **Abstract algebra:** In some structures, the result could differ based on defined operations.\n",
      "\n",
      "But unless specified otherwise, the most common and straightforward answer is **2**. 😊\n"
     ]
    }
   ],
   "source": [
    "from openai import OpenAI\n",
    "import os\n",
    "import json\n",
    "\n",
    "\n",
    "# vLLM OpenAI-compatible endpoint\n",
    "base_url = os.getenv(\"VLLM_BASE_URL\", \"http://localhost:8000/v1\")\n",
    "api_key = os.getenv(\"VLLM_API_KEY\", \"test-123\")\n",
    "\n",
    "\n",
    "client = OpenAI(base_url=base_url, api_key=api_key)\n",
    "\n",
    "\n",
    "messages = [{\"role\": \"user\", \"content\": \"What's 1+1?\"}]\n",
    "\n",
    "\n",
    "resp = client.chat.completions.create(\n",
    "    model=\"Qwen/Qwen3-8B\",\n",
    "    messages=messages,\n",
    "    max_tokens=4096,\n",
    "    temperature=0.7,\n",
    ")\n",
    "\n",
    "print(resp.choices[0].message.content.strip())"
   ]
  }
 ],
 "metadata": {
  "kernelspec": {
   "display_name": "Python 3",
   "language": "python",
   "name": "python3"
  },
  "language_info": {
   "codemirror_mode": {
    "name": "ipython",
    "version": 3
   },
   "file_extension": ".py",
   "mimetype": "text/x-python",
   "name": "python",
   "nbconvert_exporter": "python",
   "pygments_lexer": "ipython3",
   "version": "3.10.12"
  }
 },
 "nbformat": 4,
 "nbformat_minor": 5
}
